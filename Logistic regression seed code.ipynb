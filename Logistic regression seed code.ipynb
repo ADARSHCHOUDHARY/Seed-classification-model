{
 "cells": [
  {
   "cell_type": "code",
   "execution_count": 129,
   "id": "8821824c",
   "metadata": {},
   "outputs": [],
   "source": [
    "import numpy as np\n",
    "import pandas as pd\n",
    "import matplotlib.pyplot as plt"
   ]
  },
  {
   "cell_type": "code",
   "execution_count": 10,
   "id": "748f2304",
   "metadata": {},
   "outputs": [],
   "source": [
    "data=pd.read_csv('C:\\\\Users\\\\adarsh\\\\seeds.csv')"
   ]
  },
  {
   "cell_type": "code",
   "execution_count": 14,
   "id": "1e3b07b8",
   "metadata": {},
   "outputs": [
    {
     "name": "stdout",
     "output_type": "stream",
     "text": [
      "<class 'pandas.core.frame.DataFrame'>\n",
      "RangeIndex: 199 entries, 0 to 198\n",
      "Data columns (total 8 columns):\n",
      " #   Column           Non-Null Count  Dtype  \n",
      "---  ------           --------------  -----  \n",
      " 0   Area             199 non-null    float64\n",
      " 1   Perimeter        199 non-null    float64\n",
      " 2   Compactness      199 non-null    float64\n",
      " 3   Kernel.Length    199 non-null    float64\n",
      " 4   Kernel.Width     199 non-null    float64\n",
      " 5   Asymmetry.Coeff  199 non-null    float64\n",
      " 6   Kernel.Groove    199 non-null    float64\n",
      " 7   Type             199 non-null    int64  \n",
      "dtypes: float64(7), int64(1)\n",
      "memory usage: 12.6 KB\n"
     ]
    }
   ],
   "source": [
    "data.info()"
   ]
  },
  {
   "cell_type": "code",
   "execution_count": 15,
   "id": "f88e2a18",
   "metadata": {},
   "outputs": [
    {
     "data": {
      "text/html": [
       "<div>\n",
       "<style scoped>\n",
       "    .dataframe tbody tr th:only-of-type {\n",
       "        vertical-align: middle;\n",
       "    }\n",
       "\n",
       "    .dataframe tbody tr th {\n",
       "        vertical-align: top;\n",
       "    }\n",
       "\n",
       "    .dataframe thead th {\n",
       "        text-align: right;\n",
       "    }\n",
       "</style>\n",
       "<table border=\"1\" class=\"dataframe\">\n",
       "  <thead>\n",
       "    <tr style=\"text-align: right;\">\n",
       "      <th></th>\n",
       "      <th>Area</th>\n",
       "      <th>Perimeter</th>\n",
       "      <th>Compactness</th>\n",
       "      <th>Kernel.Length</th>\n",
       "      <th>Kernel.Width</th>\n",
       "      <th>Asymmetry.Coeff</th>\n",
       "      <th>Kernel.Groove</th>\n",
       "      <th>Type</th>\n",
       "    </tr>\n",
       "  </thead>\n",
       "  <tbody>\n",
       "    <tr>\n",
       "      <th>0</th>\n",
       "      <td>15.26</td>\n",
       "      <td>14.84</td>\n",
       "      <td>0.8710</td>\n",
       "      <td>5.763</td>\n",
       "      <td>3.312</td>\n",
       "      <td>2.221</td>\n",
       "      <td>5.220</td>\n",
       "      <td>1</td>\n",
       "    </tr>\n",
       "    <tr>\n",
       "      <th>1</th>\n",
       "      <td>14.88</td>\n",
       "      <td>14.57</td>\n",
       "      <td>0.8811</td>\n",
       "      <td>5.554</td>\n",
       "      <td>3.333</td>\n",
       "      <td>1.018</td>\n",
       "      <td>4.956</td>\n",
       "      <td>1</td>\n",
       "    </tr>\n",
       "    <tr>\n",
       "      <th>2</th>\n",
       "      <td>14.29</td>\n",
       "      <td>14.09</td>\n",
       "      <td>0.9050</td>\n",
       "      <td>5.291</td>\n",
       "      <td>3.337</td>\n",
       "      <td>2.699</td>\n",
       "      <td>4.825</td>\n",
       "      <td>1</td>\n",
       "    </tr>\n",
       "    <tr>\n",
       "      <th>3</th>\n",
       "      <td>13.84</td>\n",
       "      <td>13.94</td>\n",
       "      <td>0.8955</td>\n",
       "      <td>5.324</td>\n",
       "      <td>3.379</td>\n",
       "      <td>2.259</td>\n",
       "      <td>4.805</td>\n",
       "      <td>1</td>\n",
       "    </tr>\n",
       "    <tr>\n",
       "      <th>4</th>\n",
       "      <td>16.14</td>\n",
       "      <td>14.99</td>\n",
       "      <td>0.9034</td>\n",
       "      <td>5.658</td>\n",
       "      <td>3.562</td>\n",
       "      <td>1.355</td>\n",
       "      <td>5.175</td>\n",
       "      <td>1</td>\n",
       "    </tr>\n",
       "    <tr>\n",
       "      <th>5</th>\n",
       "      <td>14.38</td>\n",
       "      <td>14.21</td>\n",
       "      <td>0.8951</td>\n",
       "      <td>5.386</td>\n",
       "      <td>3.312</td>\n",
       "      <td>2.462</td>\n",
       "      <td>4.956</td>\n",
       "      <td>1</td>\n",
       "    </tr>\n",
       "    <tr>\n",
       "      <th>6</th>\n",
       "      <td>14.69</td>\n",
       "      <td>14.49</td>\n",
       "      <td>0.8799</td>\n",
       "      <td>5.563</td>\n",
       "      <td>3.259</td>\n",
       "      <td>3.586</td>\n",
       "      <td>5.219</td>\n",
       "      <td>1</td>\n",
       "    </tr>\n",
       "    <tr>\n",
       "      <th>7</th>\n",
       "      <td>16.63</td>\n",
       "      <td>15.46</td>\n",
       "      <td>0.8747</td>\n",
       "      <td>6.053</td>\n",
       "      <td>3.465</td>\n",
       "      <td>2.040</td>\n",
       "      <td>5.877</td>\n",
       "      <td>1</td>\n",
       "    </tr>\n",
       "    <tr>\n",
       "      <th>8</th>\n",
       "      <td>16.44</td>\n",
       "      <td>15.25</td>\n",
       "      <td>0.8880</td>\n",
       "      <td>5.884</td>\n",
       "      <td>3.505</td>\n",
       "      <td>1.969</td>\n",
       "      <td>5.533</td>\n",
       "      <td>1</td>\n",
       "    </tr>\n",
       "    <tr>\n",
       "      <th>9</th>\n",
       "      <td>15.26</td>\n",
       "      <td>14.85</td>\n",
       "      <td>0.8696</td>\n",
       "      <td>5.714</td>\n",
       "      <td>3.242</td>\n",
       "      <td>4.543</td>\n",
       "      <td>5.314</td>\n",
       "      <td>1</td>\n",
       "    </tr>\n",
       "  </tbody>\n",
       "</table>\n",
       "</div>"
      ],
      "text/plain": [
       "    Area  Perimeter  Compactness  Kernel.Length  Kernel.Width  \\\n",
       "0  15.26      14.84       0.8710          5.763         3.312   \n",
       "1  14.88      14.57       0.8811          5.554         3.333   \n",
       "2  14.29      14.09       0.9050          5.291         3.337   \n",
       "3  13.84      13.94       0.8955          5.324         3.379   \n",
       "4  16.14      14.99       0.9034          5.658         3.562   \n",
       "5  14.38      14.21       0.8951          5.386         3.312   \n",
       "6  14.69      14.49       0.8799          5.563         3.259   \n",
       "7  16.63      15.46       0.8747          6.053         3.465   \n",
       "8  16.44      15.25       0.8880          5.884         3.505   \n",
       "9  15.26      14.85       0.8696          5.714         3.242   \n",
       "\n",
       "   Asymmetry.Coeff  Kernel.Groove  Type  \n",
       "0            2.221          5.220     1  \n",
       "1            1.018          4.956     1  \n",
       "2            2.699          4.825     1  \n",
       "3            2.259          4.805     1  \n",
       "4            1.355          5.175     1  \n",
       "5            2.462          4.956     1  \n",
       "6            3.586          5.219     1  \n",
       "7            2.040          5.877     1  \n",
       "8            1.969          5.533     1  \n",
       "9            4.543          5.314     1  "
      ]
     },
     "execution_count": 15,
     "metadata": {},
     "output_type": "execute_result"
    }
   ],
   "source": [
    "data.head(10)"
   ]
  },
  {
   "cell_type": "code",
   "execution_count": 16,
   "id": "f7dde8cd",
   "metadata": {},
   "outputs": [],
   "source": [
    "#we need to predict to which class this seed  it beglong"
   ]
  },
  {
   "cell_type": "markdown",
   "id": "534e5dd0",
   "metadata": {},
   "source": [
    "# counting unique values"
   ]
  },
  {
   "cell_type": "code",
   "execution_count": 21,
   "id": "0c880416",
   "metadata": {},
   "outputs": [
    {
     "data": {
      "text/plain": [
       "array([1, 2, 3], dtype=int64)"
      ]
     },
     "execution_count": 21,
     "metadata": {},
     "output_type": "execute_result"
    }
   ],
   "source": [
    "data['Type'].unique()"
   ]
  },
  {
   "cell_type": "code",
   "execution_count": 23,
   "id": "db6a732a",
   "metadata": {},
   "outputs": [
    {
     "data": {
      "text/plain": [
       "2    68\n",
       "1    66\n",
       "3    65\n",
       "Name: Type, dtype: int64"
      ]
     },
     "execution_count": 23,
     "metadata": {},
     "output_type": "execute_result"
    }
   ],
   "source": [
    "data['Type'].value_counts()"
   ]
  },
  {
   "cell_type": "code",
   "execution_count": 24,
   "id": "e6b1cb55",
   "metadata": {},
   "outputs": [
    {
     "data": {
      "text/html": [
       "<div>\n",
       "<style scoped>\n",
       "    .dataframe tbody tr th:only-of-type {\n",
       "        vertical-align: middle;\n",
       "    }\n",
       "\n",
       "    .dataframe tbody tr th {\n",
       "        vertical-align: top;\n",
       "    }\n",
       "\n",
       "    .dataframe thead th {\n",
       "        text-align: right;\n",
       "    }\n",
       "</style>\n",
       "<table border=\"1\" class=\"dataframe\">\n",
       "  <thead>\n",
       "    <tr style=\"text-align: right;\">\n",
       "      <th></th>\n",
       "      <th>Area</th>\n",
       "      <th>Perimeter</th>\n",
       "      <th>Compactness</th>\n",
       "      <th>Kernel.Length</th>\n",
       "      <th>Kernel.Width</th>\n",
       "      <th>Asymmetry.Coeff</th>\n",
       "      <th>Kernel.Groove</th>\n",
       "      <th>Type</th>\n",
       "    </tr>\n",
       "  </thead>\n",
       "  <tbody>\n",
       "    <tr>\n",
       "      <th>0</th>\n",
       "      <td>15.26</td>\n",
       "      <td>14.84</td>\n",
       "      <td>0.8710</td>\n",
       "      <td>5.763</td>\n",
       "      <td>3.312</td>\n",
       "      <td>2.221</td>\n",
       "      <td>5.220</td>\n",
       "      <td>1</td>\n",
       "    </tr>\n",
       "    <tr>\n",
       "      <th>1</th>\n",
       "      <td>14.88</td>\n",
       "      <td>14.57</td>\n",
       "      <td>0.8811</td>\n",
       "      <td>5.554</td>\n",
       "      <td>3.333</td>\n",
       "      <td>1.018</td>\n",
       "      <td>4.956</td>\n",
       "      <td>1</td>\n",
       "    </tr>\n",
       "    <tr>\n",
       "      <th>2</th>\n",
       "      <td>14.29</td>\n",
       "      <td>14.09</td>\n",
       "      <td>0.9050</td>\n",
       "      <td>5.291</td>\n",
       "      <td>3.337</td>\n",
       "      <td>2.699</td>\n",
       "      <td>4.825</td>\n",
       "      <td>1</td>\n",
       "    </tr>\n",
       "    <tr>\n",
       "      <th>3</th>\n",
       "      <td>13.84</td>\n",
       "      <td>13.94</td>\n",
       "      <td>0.8955</td>\n",
       "      <td>5.324</td>\n",
       "      <td>3.379</td>\n",
       "      <td>2.259</td>\n",
       "      <td>4.805</td>\n",
       "      <td>1</td>\n",
       "    </tr>\n",
       "    <tr>\n",
       "      <th>4</th>\n",
       "      <td>16.14</td>\n",
       "      <td>14.99</td>\n",
       "      <td>0.9034</td>\n",
       "      <td>5.658</td>\n",
       "      <td>3.562</td>\n",
       "      <td>1.355</td>\n",
       "      <td>5.175</td>\n",
       "      <td>1</td>\n",
       "    </tr>\n",
       "    <tr>\n",
       "      <th>...</th>\n",
       "      <td>...</td>\n",
       "      <td>...</td>\n",
       "      <td>...</td>\n",
       "      <td>...</td>\n",
       "      <td>...</td>\n",
       "      <td>...</td>\n",
       "      <td>...</td>\n",
       "      <td>...</td>\n",
       "    </tr>\n",
       "    <tr>\n",
       "      <th>194</th>\n",
       "      <td>12.19</td>\n",
       "      <td>13.20</td>\n",
       "      <td>0.8783</td>\n",
       "      <td>5.137</td>\n",
       "      <td>2.981</td>\n",
       "      <td>3.631</td>\n",
       "      <td>4.870</td>\n",
       "      <td>3</td>\n",
       "    </tr>\n",
       "    <tr>\n",
       "      <th>195</th>\n",
       "      <td>11.23</td>\n",
       "      <td>12.88</td>\n",
       "      <td>0.8511</td>\n",
       "      <td>5.140</td>\n",
       "      <td>2.795</td>\n",
       "      <td>4.325</td>\n",
       "      <td>5.003</td>\n",
       "      <td>3</td>\n",
       "    </tr>\n",
       "    <tr>\n",
       "      <th>196</th>\n",
       "      <td>13.20</td>\n",
       "      <td>13.66</td>\n",
       "      <td>0.8883</td>\n",
       "      <td>5.236</td>\n",
       "      <td>3.232</td>\n",
       "      <td>8.315</td>\n",
       "      <td>5.056</td>\n",
       "      <td>3</td>\n",
       "    </tr>\n",
       "    <tr>\n",
       "      <th>197</th>\n",
       "      <td>11.84</td>\n",
       "      <td>13.21</td>\n",
       "      <td>0.8521</td>\n",
       "      <td>5.175</td>\n",
       "      <td>2.836</td>\n",
       "      <td>3.598</td>\n",
       "      <td>5.044</td>\n",
       "      <td>3</td>\n",
       "    </tr>\n",
       "    <tr>\n",
       "      <th>198</th>\n",
       "      <td>12.30</td>\n",
       "      <td>13.34</td>\n",
       "      <td>0.8684</td>\n",
       "      <td>5.243</td>\n",
       "      <td>2.974</td>\n",
       "      <td>5.637</td>\n",
       "      <td>5.063</td>\n",
       "      <td>3</td>\n",
       "    </tr>\n",
       "  </tbody>\n",
       "</table>\n",
       "<p>199 rows × 8 columns</p>\n",
       "</div>"
      ],
      "text/plain": [
       "      Area  Perimeter  Compactness  Kernel.Length  Kernel.Width  \\\n",
       "0    15.26      14.84       0.8710          5.763         3.312   \n",
       "1    14.88      14.57       0.8811          5.554         3.333   \n",
       "2    14.29      14.09       0.9050          5.291         3.337   \n",
       "3    13.84      13.94       0.8955          5.324         3.379   \n",
       "4    16.14      14.99       0.9034          5.658         3.562   \n",
       "..     ...        ...          ...            ...           ...   \n",
       "194  12.19      13.20       0.8783          5.137         2.981   \n",
       "195  11.23      12.88       0.8511          5.140         2.795   \n",
       "196  13.20      13.66       0.8883          5.236         3.232   \n",
       "197  11.84      13.21       0.8521          5.175         2.836   \n",
       "198  12.30      13.34       0.8684          5.243         2.974   \n",
       "\n",
       "     Asymmetry.Coeff  Kernel.Groove  Type  \n",
       "0              2.221          5.220     1  \n",
       "1              1.018          4.956     1  \n",
       "2              2.699          4.825     1  \n",
       "3              2.259          4.805     1  \n",
       "4              1.355          5.175     1  \n",
       "..               ...            ...   ...  \n",
       "194            3.631          4.870     3  \n",
       "195            4.325          5.003     3  \n",
       "196            8.315          5.056     3  \n",
       "197            3.598          5.044     3  \n",
       "198            5.637          5.063     3  \n",
       "\n",
       "[199 rows x 8 columns]"
      ]
     },
     "execution_count": 24,
     "metadata": {},
     "output_type": "execute_result"
    }
   ],
   "source": [
    "data.dropna()"
   ]
  },
  {
   "cell_type": "code",
   "execution_count": 25,
   "id": "9768e0f2",
   "metadata": {},
   "outputs": [
    {
     "data": {
      "text/plain": [
       "2    68\n",
       "1    66\n",
       "3    65\n",
       "Name: Type, dtype: int64"
      ]
     },
     "execution_count": 25,
     "metadata": {},
     "output_type": "execute_result"
    }
   ],
   "source": [
    "data['Type'].value_counts()"
   ]
  },
  {
   "cell_type": "code",
   "execution_count": 26,
   "id": "094f37fd",
   "metadata": {},
   "outputs": [],
   "source": [
    "x=data.drop(data.columns[[7]],axis=1)\n",
    "y=data['Type']"
   ]
  },
  {
   "cell_type": "code",
   "execution_count": 27,
   "id": "1fa6f2e3",
   "metadata": {},
   "outputs": [
    {
     "data": {
      "text/html": [
       "<div>\n",
       "<style scoped>\n",
       "    .dataframe tbody tr th:only-of-type {\n",
       "        vertical-align: middle;\n",
       "    }\n",
       "\n",
       "    .dataframe tbody tr th {\n",
       "        vertical-align: top;\n",
       "    }\n",
       "\n",
       "    .dataframe thead th {\n",
       "        text-align: right;\n",
       "    }\n",
       "</style>\n",
       "<table border=\"1\" class=\"dataframe\">\n",
       "  <thead>\n",
       "    <tr style=\"text-align: right;\">\n",
       "      <th></th>\n",
       "      <th>Area</th>\n",
       "      <th>Perimeter</th>\n",
       "      <th>Compactness</th>\n",
       "      <th>Kernel.Length</th>\n",
       "      <th>Kernel.Width</th>\n",
       "      <th>Asymmetry.Coeff</th>\n",
       "      <th>Kernel.Groove</th>\n",
       "    </tr>\n",
       "  </thead>\n",
       "  <tbody>\n",
       "    <tr>\n",
       "      <th>0</th>\n",
       "      <td>15.26</td>\n",
       "      <td>14.84</td>\n",
       "      <td>0.8710</td>\n",
       "      <td>5.763</td>\n",
       "      <td>3.312</td>\n",
       "      <td>2.221</td>\n",
       "      <td>5.220</td>\n",
       "    </tr>\n",
       "    <tr>\n",
       "      <th>1</th>\n",
       "      <td>14.88</td>\n",
       "      <td>14.57</td>\n",
       "      <td>0.8811</td>\n",
       "      <td>5.554</td>\n",
       "      <td>3.333</td>\n",
       "      <td>1.018</td>\n",
       "      <td>4.956</td>\n",
       "    </tr>\n",
       "    <tr>\n",
       "      <th>2</th>\n",
       "      <td>14.29</td>\n",
       "      <td>14.09</td>\n",
       "      <td>0.9050</td>\n",
       "      <td>5.291</td>\n",
       "      <td>3.337</td>\n",
       "      <td>2.699</td>\n",
       "      <td>4.825</td>\n",
       "    </tr>\n",
       "    <tr>\n",
       "      <th>3</th>\n",
       "      <td>13.84</td>\n",
       "      <td>13.94</td>\n",
       "      <td>0.8955</td>\n",
       "      <td>5.324</td>\n",
       "      <td>3.379</td>\n",
       "      <td>2.259</td>\n",
       "      <td>4.805</td>\n",
       "    </tr>\n",
       "    <tr>\n",
       "      <th>4</th>\n",
       "      <td>16.14</td>\n",
       "      <td>14.99</td>\n",
       "      <td>0.9034</td>\n",
       "      <td>5.658</td>\n",
       "      <td>3.562</td>\n",
       "      <td>1.355</td>\n",
       "      <td>5.175</td>\n",
       "    </tr>\n",
       "    <tr>\n",
       "      <th>...</th>\n",
       "      <td>...</td>\n",
       "      <td>...</td>\n",
       "      <td>...</td>\n",
       "      <td>...</td>\n",
       "      <td>...</td>\n",
       "      <td>...</td>\n",
       "      <td>...</td>\n",
       "    </tr>\n",
       "    <tr>\n",
       "      <th>194</th>\n",
       "      <td>12.19</td>\n",
       "      <td>13.20</td>\n",
       "      <td>0.8783</td>\n",
       "      <td>5.137</td>\n",
       "      <td>2.981</td>\n",
       "      <td>3.631</td>\n",
       "      <td>4.870</td>\n",
       "    </tr>\n",
       "    <tr>\n",
       "      <th>195</th>\n",
       "      <td>11.23</td>\n",
       "      <td>12.88</td>\n",
       "      <td>0.8511</td>\n",
       "      <td>5.140</td>\n",
       "      <td>2.795</td>\n",
       "      <td>4.325</td>\n",
       "      <td>5.003</td>\n",
       "    </tr>\n",
       "    <tr>\n",
       "      <th>196</th>\n",
       "      <td>13.20</td>\n",
       "      <td>13.66</td>\n",
       "      <td>0.8883</td>\n",
       "      <td>5.236</td>\n",
       "      <td>3.232</td>\n",
       "      <td>8.315</td>\n",
       "      <td>5.056</td>\n",
       "    </tr>\n",
       "    <tr>\n",
       "      <th>197</th>\n",
       "      <td>11.84</td>\n",
       "      <td>13.21</td>\n",
       "      <td>0.8521</td>\n",
       "      <td>5.175</td>\n",
       "      <td>2.836</td>\n",
       "      <td>3.598</td>\n",
       "      <td>5.044</td>\n",
       "    </tr>\n",
       "    <tr>\n",
       "      <th>198</th>\n",
       "      <td>12.30</td>\n",
       "      <td>13.34</td>\n",
       "      <td>0.8684</td>\n",
       "      <td>5.243</td>\n",
       "      <td>2.974</td>\n",
       "      <td>5.637</td>\n",
       "      <td>5.063</td>\n",
       "    </tr>\n",
       "  </tbody>\n",
       "</table>\n",
       "<p>199 rows × 7 columns</p>\n",
       "</div>"
      ],
      "text/plain": [
       "      Area  Perimeter  Compactness  Kernel.Length  Kernel.Width  \\\n",
       "0    15.26      14.84       0.8710          5.763         3.312   \n",
       "1    14.88      14.57       0.8811          5.554         3.333   \n",
       "2    14.29      14.09       0.9050          5.291         3.337   \n",
       "3    13.84      13.94       0.8955          5.324         3.379   \n",
       "4    16.14      14.99       0.9034          5.658         3.562   \n",
       "..     ...        ...          ...            ...           ...   \n",
       "194  12.19      13.20       0.8783          5.137         2.981   \n",
       "195  11.23      12.88       0.8511          5.140         2.795   \n",
       "196  13.20      13.66       0.8883          5.236         3.232   \n",
       "197  11.84      13.21       0.8521          5.175         2.836   \n",
       "198  12.30      13.34       0.8684          5.243         2.974   \n",
       "\n",
       "     Asymmetry.Coeff  Kernel.Groove  \n",
       "0              2.221          5.220  \n",
       "1              1.018          4.956  \n",
       "2              2.699          4.825  \n",
       "3              2.259          4.805  \n",
       "4              1.355          5.175  \n",
       "..               ...            ...  \n",
       "194            3.631          4.870  \n",
       "195            4.325          5.003  \n",
       "196            8.315          5.056  \n",
       "197            3.598          5.044  \n",
       "198            5.637          5.063  \n",
       "\n",
       "[199 rows x 7 columns]"
      ]
     },
     "execution_count": 27,
     "metadata": {},
     "output_type": "execute_result"
    }
   ],
   "source": [
    "x"
   ]
  },
  {
   "cell_type": "code",
   "execution_count": 28,
   "id": "72805e9c",
   "metadata": {},
   "outputs": [
    {
     "data": {
      "text/plain": [
       "0      1\n",
       "1      1\n",
       "2      1\n",
       "3      1\n",
       "4      1\n",
       "      ..\n",
       "194    3\n",
       "195    3\n",
       "196    3\n",
       "197    3\n",
       "198    3\n",
       "Name: Type, Length: 199, dtype: int64"
      ]
     },
     "execution_count": 28,
     "metadata": {},
     "output_type": "execute_result"
    }
   ],
   "source": [
    "y"
   ]
  },
  {
   "cell_type": "code",
   "execution_count": 65,
   "id": "806dbce7",
   "metadata": {},
   "outputs": [],
   "source": [
    "from sklearn.model_selection import train_test_split\n",
    "x_train, x_test, y_train, y_test=train_test_split(x,y, test_size=0.2, random_state=0)"
   ]
  },
  {
   "cell_type": "code",
   "execution_count": 121,
   "id": "8b4c6b07",
   "metadata": {},
   "outputs": [
    {
     "data": {
      "text/plain": [
       "LinearRegression()"
      ]
     },
     "execution_count": 121,
     "metadata": {},
     "output_type": "execute_result"
    }
   ],
   "source": [
    "from sklearn.linear_model import LinearRegression\n",
    "lm=LinearRegression()\n",
    "\n",
    "lm.fit(x_train, y_train)\n",
    "lm"
   ]
  },
  {
   "cell_type": "code",
   "execution_count": 122,
   "id": "59abfd55",
   "metadata": {},
   "outputs": [],
   "source": [
    "y_pred=lm.predict(x_test)"
   ]
  },
  {
   "cell_type": "code",
   "execution_count": 125,
   "id": "cee38e3c",
   "metadata": {},
   "outputs": [
    {
     "data": {
      "text/plain": [
       "18     1\n",
       "169    3\n",
       "106    2\n",
       "92     2\n",
       "176    3\n",
       "183    3\n",
       "5      1\n",
       "139    3\n",
       "12     1\n",
       "160    3\n",
       "61     1\n",
       "124    2\n",
       "164    3\n",
       "145    3\n",
       "80     2\n",
       "7      1\n",
       "33     1\n",
       "129    2\n",
       "37     1\n",
       "74     2\n",
       "159    3\n",
       "144    3\n",
       "45     1\n",
       "158    3\n",
       "60     1\n",
       "122    2\n",
       "178    3\n",
       "184    3\n",
       "97     2\n",
       "44     1\n",
       "16     1\n",
       "55     1\n",
       "83     2\n",
       "110    2\n",
       "22     1\n",
       "188    3\n",
       "135    3\n",
       "4      1\n",
       "137    3\n",
       "193    3\n",
       "Name: Type, dtype: int64"
      ]
     },
     "execution_count": 125,
     "metadata": {},
     "output_type": "execute_result"
    }
   ],
   "source": [
    "y_test"
   ]
  },
  {
   "cell_type": "code",
   "execution_count": 126,
   "id": "2e0222a6",
   "metadata": {},
   "outputs": [],
   "source": [
    "y_pred_int = [int(i) for i in y_pred]"
   ]
  },
  {
   "cell_type": "code",
   "execution_count": 127,
   "id": "3ec42d81",
   "metadata": {},
   "outputs": [
    {
     "data": {
      "text/plain": [
       "[1,\n",
       " 2,\n",
       " 1,\n",
       " 2,\n",
       " 2,\n",
       " 2,\n",
       " 1,\n",
       " 3,\n",
       " 0,\n",
       " 2,\n",
       " 1,\n",
       " 2,\n",
       " 3,\n",
       " 3,\n",
       " 1,\n",
       " 1,\n",
       " 1,\n",
       " 2,\n",
       " 1,\n",
       " 2,\n",
       " 2,\n",
       " 3,\n",
       " 1,\n",
       " 3,\n",
       " 1,\n",
       " 1,\n",
       " 3,\n",
       " 3,\n",
       " 1,\n",
       " 0,\n",
       " 0,\n",
       " 1,\n",
       " 2,\n",
       " 1,\n",
       " 2,\n",
       " 1,\n",
       " 2,\n",
       " 0,\n",
       " 2,\n",
       " 2]"
      ]
     },
     "execution_count": 127,
     "metadata": {},
     "output_type": "execute_result"
    }
   ],
   "source": [
    "y_pred_int"
   ]
  },
  {
   "cell_type": "code",
   "execution_count": 128,
   "id": "dd9be87e",
   "metadata": {},
   "outputs": [
    {
     "data": {
      "text/plain": [
       "0.525"
      ]
     },
     "execution_count": 128,
     "metadata": {},
     "output_type": "execute_result"
    }
   ],
   "source": [
    "from sklearn.metrics import accuracy_score\n",
    "accuracy_score(y_pred_int,y_test)"
   ]
  },
  {
   "cell_type": "markdown",
   "id": "34f1a9f8",
   "metadata": {},
   "source": [
    "# Feature scaling"
   ]
  },
  {
   "cell_type": "code",
   "execution_count": 92,
   "id": "3288c478",
   "metadata": {},
   "outputs": [],
   "source": [
    "from sklearn.preprocessing import StandardScaler\n",
    "sc_x=StandardScaler()\n",
    "x_train=sc_x.fit_transform(x_train)\n",
    "x_test=sc_x.transform(x_test)"
   ]
  },
  {
   "cell_type": "code",
   "execution_count": 93,
   "id": "b05a73aa",
   "metadata": {},
   "outputs": [
    {
     "data": {
      "text/plain": [
       "array([[-1.21393147, -1.09444853, -1.93335918, ..., -1.54773867,\n",
       "         1.23265789, -0.25109946],\n",
       "       [ 0.88142512,  1.00820357, -0.1619262 , ...,  0.74371469,\n",
       "         0.29133364,  1.25451248],\n",
       "       [-0.78735236, -0.75162482, -0.63286814, ..., -0.85712743,\n",
       "        -0.83653351, -1.13639928],\n",
       "       ...,\n",
       "       [ 0.38318072,  0.55110529, -0.5291745 , ...,  0.2833072 ,\n",
       "         0.44200292,  0.5378412 ],\n",
       "       [-0.06387419,  0.01020565, -0.1489645 , ..., -0.05802938,\n",
       "        -1.10558579, -0.16879267],\n",
       "       [-0.88290608, -0.94970074, -0.01934745, ..., -0.69572021,\n",
       "         0.94495132, -0.57831912]])"
      ]
     },
     "execution_count": 93,
     "metadata": {},
     "output_type": "execute_result"
    }
   ],
   "source": [
    "x_train"
   ]
  },
  {
   "cell_type": "code",
   "execution_count": 94,
   "id": "23d20986",
   "metadata": {},
   "outputs": [
    {
     "data": {
      "text/plain": [
       "array([[-7.94177621e-01, -8.27807865e-01, -1.05758815e-01,\n",
       "        -9.89150992e-01, -6.11047571e-01,  3.09987936e-01,\n",
       "        -1.04606256e+00],\n",
       "       [-1.21734410e+00, -1.22395971e+00, -1.02603985e+00,\n",
       "        -1.09310011e+00, -1.38103940e+00,  1.58278459e+00,\n",
       "        -8.69404095e-01],\n",
       "       [ 1.47863588e+00,  1.57195812e+00,  2.38582321e-02,\n",
       "         1.44461411e+00,  1.35229930e+00,  5.77949116e-03,\n",
       "         1.06380164e+00],\n",
       "       [ 1.45474745e+00,  1.47292016e+00,  4.51594487e-01,\n",
       "         1.53048511e+00,  1.40257368e+00, -1.38432531e-01,\n",
       "         1.61184439e+00],\n",
       "       [-1.19004304e+00, -1.02588379e+00, -2.21419611e+00,\n",
       "        -6.79563417e-01, -1.57949091e+00,  2.81289026e-01,\n",
       "        -5.08057229e-01],\n",
       "       [-1.08425142e+00, -1.24681462e+00,  3.65183122e-01,\n",
       "        -1.20156874e+00, -8.65065495e-01, -5.23358014e-02,\n",
       "        -6.08431359e-01],\n",
       "       [-2.27680563e-01, -3.40236363e-01,  1.03919177e+00,\n",
       "        -6.27588861e-01,  8.48556993e-02, -8.66667370e-01,\n",
       "        -9.61748294e-01],\n",
       "       [-1.30948519e+00, -1.16301327e+00, -2.34813373e+00,\n",
       "        -8.69383536e-01, -1.56890683e+00,  1.79300411e+00,\n",
       "        -3.21361348e-01],\n",
       "       [-4.32438536e-01, -4.54510934e-01,  2.09642666e-01,\n",
       "        -4.17430872e-01, -3.27923427e-01, -3.83090738e-01,\n",
       "        -1.13037683e+00],\n",
       "       [-8.89731342e-01, -8.12571256e-01, -1.07356610e+00,\n",
       "        -7.78993003e-01, -1.01324262e+00,  8.99750535e-01,\n",
       "        -3.31398761e-01],\n",
       "       [-7.73701824e-01, -8.27807865e-01,  2.38582321e-02,\n",
       "        -9.07799513e-01, -6.71906032e-01, -1.78933732e+00,\n",
       "        -1.31105027e+00],\n",
       "       [ 8.54124059e-01,  7.64417820e-01,  1.21201450e+00,\n",
       "         2.87615285e-01,  1.08505127e+00,  1.21687349e+00,\n",
       "         4.53526932e-01],\n",
       "       [-1.24464516e+00, -1.20110480e+00, -1.44945553e+00,\n",
       "        -1.19252969e+00, -1.36780930e+00,  1.37615244e+00,\n",
       "        -6.94753110e-01],\n",
       "       [-1.03647456e+00, -8.65899389e-01, -1.99384713e+00,\n",
       "        -5.84653358e-01, -1.33341104e+00,  2.38348418e+00,\n",
       "        -3.31398761e-01],\n",
       "       [ 1.52300010e+00,  1.56433981e+00,  3.00374599e-01,\n",
       "         1.58697920e+00,  1.37875950e+00, -5.07930996e-01,\n",
       "         1.50544781e+00],\n",
       "       [ 5.40161834e-01,  6.12051726e-01,  1.57795847e-01,\n",
       "         8.79673276e-01,  4.89696765e-01, -1.16944087e+00,\n",
       "         8.87143171e-01],\n",
       "       [ 9.65839494e-04,  1.78239582e-02,  2.96054031e-01,\n",
       "         1.09093983e-01,  1.27192020e-01, -1.10558579e+00,\n",
       "        -1.50725328e-01],\n",
       "       [ 1.75010116e-01,  1.77808357e-01,  4.86159033e-01,\n",
       "         2.53718836e-01,  3.38873623e-01,  9.34189227e-01,\n",
       "         8.26918693e-01],\n",
       "       [-2.61806892e-01, -3.70709582e-01,  1.00894779e+00,\n",
       "        -6.02731464e-01,  4.78114187e-02,  2.16322004e+00,\n",
       "        -8.71411578e-01],\n",
       "       [ 1.32848003e+00,  1.39673711e+00,  1.70757552e-01,\n",
       "         1.76550050e+00,  9.50104252e-01,  1.00019672e+00,\n",
       "         1.86077223e+00],\n",
       "       [-1.00576086e+00, -1.14777666e+00,  3.56541986e-01,\n",
       "        -1.26258235e+00, -8.96817736e-01, -1.05392776e+00,\n",
       "        -7.61000035e-01],\n",
       "       [-1.09790195e+00, -1.08683023e+00, -9.26666778e-01,\n",
       "        -9.05539749e-01, -1.16406576e+00,  1.09418565e+00,\n",
       "        -2.57121905e-01],\n",
       "       [-1.95099578e-02, -7.35956984e-02,  7.45393126e-01,\n",
       "        -2.11792409e-01,  2.56847002e-01, -5.10800887e-01,\n",
       "        -5.22109607e-01],\n",
       "       [-1.33337362e+00, -1.42203563e+00, -6.58791548e-01,\n",
       "        -1.47500011e+00, -1.28578268e+00,  1.95013064e+00,\n",
       "        -7.75052414e-01],\n",
       "       [-6.23545977e-01, -6.22113638e-01, -1.31682224e-01,\n",
       "        -6.07250991e-01, -5.55481150e-01,  3.49448937e-01,\n",
       "        -6.96760593e-01],\n",
       "       [ 1.00086727e+00,  9.09165610e-01,  1.22065563e+00,\n",
       "         7.12450790e-01,  1.07711321e+00, -1.01374928e+00,\n",
       "         9.71457440e-01],\n",
       "       [-1.41186417e+00, -1.41441733e+00, -1.46241724e+00,\n",
       "        -1.30099833e+00, -1.60065907e+00,  3.65233338e-01,\n",
       "        -9.61748294e-01],\n",
       "       [-1.44257787e+00, -1.39156241e+00, -1.96360315e+00,\n",
       "        -1.09310011e+00, -1.71972997e+00,  8.48809970e-01,\n",
       "        -6.94753110e-01],\n",
       "       [ 1.00427991e+00,  9.16783914e-01,  1.21633506e+00,\n",
       "         5.11331854e-01,  1.09563535e+00, -1.14935163e+00,\n",
       "         8.06843867e-01],\n",
       "       [ 1.06757459e-01,  7.87703959e-02,  6.50340625e-01,\n",
       "         8.42365863e-02,  2.99183323e-01, -1.65230003e+00,\n",
       "        -6.08431359e-01],\n",
       "       [ 2.19374344e-01,  7.11520912e-02,  1.50149257e+00,\n",
       "        -3.08962232e-01,  6.19351747e-01, -1.48584635e+00,\n",
       "        -7.81074861e-01],\n",
       "       [-4.33983879e-02, -1.72633660e-01,  1.27682302e+00,\n",
       "        -6.32108387e-01,  3.49457703e-01, -1.81373140e+00,\n",
       "        -6.96760593e-01],\n",
       "       [ 1.34213056e+00,  1.52624829e+00, -5.20533365e-01,\n",
       "         2.00051588e+00,  1.03213087e+00,  1.51066369e-02,\n",
       "         2.13378986e+00],\n",
       "       [ 1.36943162e+00,  1.36626389e+00,  6.20096648e-01,\n",
       "         1.69996736e+00,  1.16178586e+00, -1.02020654e+00,\n",
       "         1.46128319e+00],\n",
       "       [-1.01258613e+00, -1.08683023e+00, -2.00811316e-01,\n",
       "        -1.27614093e+00, -9.10047836e-01, -1.61786134e+00,\n",
       "        -9.51710881e-01],\n",
       "       [-5.72356484e-01, -6.67823466e-01,  5.98493807e-01,\n",
       "        -7.76733240e-01, -4.02011988e-01,  7.17512457e-01,\n",
       "        -6.90738145e-01],\n",
       "       [-5.89419648e-01, -5.45930591e-01, -4.21160295e-01,\n",
       "        -2.77325546e-01, -5.47543090e-01,  2.41433551e+00,\n",
       "         9.87327915e-03],\n",
       "       [ 3.72942823e-01,  2.53991404e-01,  1.39779893e+00,\n",
       "        -1.29332366e-02,  7.46360709e-01, -1.66090970e+00,\n",
       "        -5.22109607e-01],\n",
       "       [-9.64809265e-01, -1.01826548e+00, -2.52658135e-01,\n",
       "        -9.93670519e-01, -8.28021215e-01,  1.29077318e+00,\n",
       "        -4.29765408e-01],\n",
       "       [-9.13619772e-01, -9.03990912e-01, -6.19906434e-01,\n",
       "        -1.03886579e+00, -8.46543355e-01,  1.78690423e-01,\n",
       "        -8.71411578e-01]])"
      ]
     },
     "execution_count": 94,
     "metadata": {},
     "output_type": "execute_result"
    }
   ],
   "source": [
    "x_test"
   ]
  },
  {
   "cell_type": "markdown",
   "id": "612411e4",
   "metadata": {},
   "source": [
    "# training model"
   ]
  },
  {
   "cell_type": "code",
   "execution_count": 95,
   "id": "e5515db0",
   "metadata": {},
   "outputs": [
    {
     "data": {
      "text/plain": [
       "LogisticRegression()"
      ]
     },
     "execution_count": 95,
     "metadata": {},
     "output_type": "execute_result"
    }
   ],
   "source": [
    "from sklearn.linear_model import LogisticRegression\n",
    "classifier=LogisticRegression()\n",
    "classifier.fit(x_train,y_train)\n"
   ]
  },
  {
   "cell_type": "code",
   "execution_count": 96,
   "id": "4effad31",
   "metadata": {},
   "outputs": [],
   "source": [
    "y_pred=classifier.predict(x_test)"
   ]
  },
  {
   "cell_type": "code",
   "execution_count": 97,
   "id": "6d3fca45",
   "metadata": {},
   "outputs": [
    {
     "data": {
      "text/plain": [
       "array([3, 3, 2, 2, 3, 3, 1, 3, 1, 3, 1, 2, 3, 3, 2, 2, 1, 2, 3, 2, 3, 3,\n",
       "       1, 3, 3, 2, 3, 3, 2, 1, 1, 1, 2, 2, 1, 3, 3, 1, 3, 3], dtype=int64)"
      ]
     },
     "execution_count": 97,
     "metadata": {},
     "output_type": "execute_result"
    }
   ],
   "source": [
    "y_pred"
   ]
  },
  {
   "cell_type": "code",
   "execution_count": 98,
   "id": "7af6b142",
   "metadata": {},
   "outputs": [],
   "source": [
    "from sklearn.metrics import confusion_matrix"
   ]
  },
  {
   "cell_type": "code",
   "execution_count": 99,
   "id": "52d9f12e",
   "metadata": {},
   "outputs": [],
   "source": [
    "cm=confusion_matrix(y_pred,y_test)"
   ]
  },
  {
   "cell_type": "code",
   "execution_count": 100,
   "id": "cb5f73f0",
   "metadata": {},
   "outputs": [
    {
     "data": {
      "text/plain": [
       "array([[10,  0,  0],\n",
       "       [ 1, 10,  0],\n",
       "       [ 3,  0, 16]], dtype=int64)"
      ]
     },
     "execution_count": 100,
     "metadata": {},
     "output_type": "execute_result"
    }
   ],
   "source": [
    "cm"
   ]
  },
  {
   "cell_type": "code",
   "execution_count": 101,
   "id": "653648d8",
   "metadata": {},
   "outputs": [
    {
     "data": {
      "text/plain": [
       "0.9"
      ]
     },
     "execution_count": 101,
     "metadata": {},
     "output_type": "execute_result"
    }
   ],
   "source": [
    "from sklearn.metrics import accuracy_score\n",
    "accuracy_score(y_pred,y_test)"
   ]
  },
  {
   "cell_type": "code",
   "execution_count": 102,
   "id": "d9cfd5d7",
   "metadata": {},
   "outputs": [],
   "source": [
    "from sklearn.model_selection import train_test_split\n",
    "x_train, x_test, y_train, y_test=train_test_split(x,y, test_size=0.20, random_state=0)"
   ]
  },
  {
   "cell_type": "code",
   "execution_count": 103,
   "id": "fb5d611d",
   "metadata": {},
   "outputs": [],
   "source": [
    "from sklearn.preprocessing import StandardScaler\n",
    "sc_x=StandardScaler()\n",
    "x_train=sc_x.fit_transform(x_train)\n",
    "x_test=sc_x.transform(x_test)"
   ]
  },
  {
   "cell_type": "code",
   "execution_count": 104,
   "id": "a5b03c07",
   "metadata": {},
   "outputs": [],
   "source": [
    "from sklearn.neighbors import KNeighborsClassifier"
   ]
  },
  {
   "cell_type": "code",
   "execution_count": 105,
   "id": "68a0a85d",
   "metadata": {},
   "outputs": [
    {
     "data": {
      "text/plain": [
       "KNeighborsClassifier(n_neighbors=3)"
      ]
     },
     "execution_count": 105,
     "metadata": {},
     "output_type": "execute_result"
    }
   ],
   "source": [
    "knn_classifier= KNeighborsClassifier(n_neighbors=3,p=2)\n",
    "knn_classifier.fit(x_train,y_train)"
   ]
  },
  {
   "cell_type": "code",
   "execution_count": 106,
   "id": "5d16435f",
   "metadata": {},
   "outputs": [],
   "source": [
    "y_pred=knn_classifier.predict(x_test)"
   ]
  },
  {
   "cell_type": "code",
   "execution_count": 107,
   "id": "1f0b246d",
   "metadata": {},
   "outputs": [],
   "source": [
    "from sklearn.metrics import confusion_matrix\n",
    "cm=confusion_matrix(y_pred,y_test)"
   ]
  },
  {
   "cell_type": "code",
   "execution_count": 108,
   "id": "20db2291",
   "metadata": {},
   "outputs": [
    {
     "data": {
      "text/plain": [
       "array([[11,  0,  1],\n",
       "       [ 0, 10,  0],\n",
       "       [ 3,  0, 15]], dtype=int64)"
      ]
     },
     "execution_count": 108,
     "metadata": {},
     "output_type": "execute_result"
    }
   ],
   "source": [
    "cm"
   ]
  },
  {
   "cell_type": "code",
   "execution_count": 109,
   "id": "cef4bf53",
   "metadata": {},
   "outputs": [
    {
     "data": {
      "text/plain": [
       "0.9"
      ]
     },
     "execution_count": 109,
     "metadata": {},
     "output_type": "execute_result"
    }
   ],
   "source": [
    "from sklearn.metrics import accuracy_score\n",
    "accuracy_score(y_pred,y_test)"
   ]
  },
  {
   "cell_type": "code",
   "execution_count": 110,
   "id": "a30bed16",
   "metadata": {},
   "outputs": [],
   "source": [
    "from sklearn.preprocessing import StandardScaler\n",
    "sc = StandardScaler()\n",
    "x_train = sc.fit_transform(x_train)\n",
    "x_test = sc.transform(x_test)"
   ]
  },
  {
   "cell_type": "code",
   "execution_count": 111,
   "id": "5a122af2",
   "metadata": {},
   "outputs": [
    {
     "data": {
      "text/plain": [
       "GaussianNB()"
      ]
     },
     "execution_count": 111,
     "metadata": {},
     "output_type": "execute_result"
    }
   ],
   "source": [
    "# Fitting Naive Bayes Classification to the Training set with linear kernel\n",
    "from sklearn.naive_bayes import GaussianNB\n",
    "nvclassifier = GaussianNB()\n",
    "nvclassifier.fit(x_train, y_train)"
   ]
  },
  {
   "cell_type": "code",
   "execution_count": 112,
   "id": "da0a105c",
   "metadata": {},
   "outputs": [],
   "source": [
    "y_pred = nvclassifier.predict(x_test)"
   ]
  },
  {
   "cell_type": "code",
   "execution_count": 113,
   "id": "0aa3e27e",
   "metadata": {},
   "outputs": [],
   "source": [
    "from sklearn.metrics import confusion_matrix\n",
    "cm = confusion_matrix(y_test, y_pred)"
   ]
  },
  {
   "cell_type": "code",
   "execution_count": 114,
   "id": "7d77bac7",
   "metadata": {},
   "outputs": [
    {
     "data": {
      "text/plain": [
       "array([[11,  1,  2],\n",
       "       [ 0, 10,  0],\n",
       "       [ 1,  0, 15]], dtype=int64)"
      ]
     },
     "execution_count": 114,
     "metadata": {},
     "output_type": "execute_result"
    }
   ],
   "source": [
    "cm"
   ]
  },
  {
   "cell_type": "code",
   "execution_count": 115,
   "id": "9b71cfd8",
   "metadata": {},
   "outputs": [
    {
     "data": {
      "text/plain": [
       "0.9"
      ]
     },
     "execution_count": 115,
     "metadata": {},
     "output_type": "execute_result"
    }
   ],
   "source": [
    "from sklearn.metrics import accuracy_score\n",
    "accuracy_score(y_pred,y_test)"
   ]
  },
  {
   "cell_type": "code",
   "execution_count": 149,
   "id": "118e2b2b",
   "metadata": {},
   "outputs": [
    {
     "data": {
      "text/plain": [
       "DecisionTreeClassifier(criterion='entropy', random_state=0)"
      ]
     },
     "execution_count": 149,
     "metadata": {},
     "output_type": "execute_result"
    }
   ],
   "source": [
    "from sklearn.tree import DecisionTreeClassifier\n",
    "dt=DecisionTreeClassifier(random_state=0,criterion=\"entropy\")\n",
    "dt.fit(x_train,y_train)"
   ]
  },
  {
   "cell_type": "code",
   "execution_count": 150,
   "id": "3b593eba",
   "metadata": {},
   "outputs": [],
   "source": [
    "y_pred = dt.predict(x_test)"
   ]
  },
  {
   "cell_type": "code",
   "execution_count": 151,
   "id": "131eb3cb",
   "metadata": {},
   "outputs": [],
   "source": [
    "from sklearn.metrics import confusion_matrix\n",
    "cm = confusion_matrix(y_test, y_pred)"
   ]
  },
  {
   "cell_type": "code",
   "execution_count": 152,
   "id": "dd9252cc",
   "metadata": {},
   "outputs": [
    {
     "data": {
      "text/plain": [
       "0.875"
      ]
     },
     "execution_count": 152,
     "metadata": {},
     "output_type": "execute_result"
    }
   ],
   "source": [
    "from sklearn.metrics import accuracy_score\n",
    "accuracy_score(y_pred,y_test)"
   ]
  },
  {
   "cell_type": "code",
   "execution_count": 153,
   "id": "3350d47a",
   "metadata": {},
   "outputs": [
    {
     "data": {
      "text/plain": [
       "[<matplotlib.lines.Line2D at 0x1f3f95f4fa0>]"
      ]
     },
     "execution_count": 153,
     "metadata": {},
     "output_type": "execute_result"
    },
    {
     "data": {
      "image/png": "[encoded data removed]",
      "text/plain": [
       "<Figure size 432x288 with 1 Axes>"
      ]
     },
     "metadata": {
      "needs_background": "light"
     },
     "output_type": "display_data"
    }
   ],
   "source": [
    "plt.plot(y_pred, y_test)"
   ]
  },
  {
   "cell_type": "code",
   "execution_count": 154,
   "id": "990c2a72",
   "metadata": {},
   "outputs": [
    {
     "data": {
      "text/plain": [
       "(40,)"
      ]
     },
     "execution_count": 154,
     "metadata": {},
     "output_type": "execute_result"
    }
   ],
   "source": [
    "y_test.shape"
   ]
  },
  {
   "cell_type": "code",
   "execution_count": 165,
   "id": "695955b0",
   "metadata": {},
   "outputs": [
    {
     "data": {
      "text/html": [
       "<div>\n",
       "<style scoped>\n",
       "    .dataframe tbody tr th:only-of-type {\n",
       "        vertical-align: middle;\n",
       "    }\n",
       "\n",
       "    .dataframe tbody tr th {\n",
       "        vertical-align: top;\n",
       "    }\n",
       "\n",
       "    .dataframe thead th {\n",
       "        text-align: right;\n",
       "    }\n",
       "</style>\n",
       "<table border=\"1\" class=\"dataframe\">\n",
       "  <thead>\n",
       "    <tr style=\"text-align: right;\">\n",
       "      <th></th>\n",
       "      <th>Area</th>\n",
       "      <th>Perimeter</th>\n",
       "      <th>Compactness</th>\n",
       "      <th>Kernel.Length</th>\n",
       "      <th>Kernel.Width</th>\n",
       "      <th>Asymmetry.Coeff</th>\n",
       "      <th>Kernel.Groove</th>\n",
       "      <th>Type</th>\n",
       "    </tr>\n",
       "  </thead>\n",
       "  <tbody>\n",
       "    <tr>\n",
       "      <th>0</th>\n",
       "      <td>15.26</td>\n",
       "      <td>14.84</td>\n",
       "      <td>0.8710</td>\n",
       "      <td>5.763</td>\n",
       "      <td>3.312</td>\n",
       "      <td>2.221</td>\n",
       "      <td>5.220</td>\n",
       "      <td>1</td>\n",
       "    </tr>\n",
       "    <tr>\n",
       "      <th>1</th>\n",
       "      <td>14.88</td>\n",
       "      <td>14.57</td>\n",
       "      <td>0.8811</td>\n",
       "      <td>5.554</td>\n",
       "      <td>3.333</td>\n",
       "      <td>1.018</td>\n",
       "      <td>4.956</td>\n",
       "      <td>1</td>\n",
       "    </tr>\n",
       "    <tr>\n",
       "      <th>2</th>\n",
       "      <td>14.29</td>\n",
       "      <td>14.09</td>\n",
       "      <td>0.9050</td>\n",
       "      <td>5.291</td>\n",
       "      <td>3.337</td>\n",
       "      <td>2.699</td>\n",
       "      <td>4.825</td>\n",
       "      <td>1</td>\n",
       "    </tr>\n",
       "    <tr>\n",
       "      <th>3</th>\n",
       "      <td>13.84</td>\n",
       "      <td>13.94</td>\n",
       "      <td>0.8955</td>\n",
       "      <td>5.324</td>\n",
       "      <td>3.379</td>\n",
       "      <td>2.259</td>\n",
       "      <td>4.805</td>\n",
       "      <td>1</td>\n",
       "    </tr>\n",
       "    <tr>\n",
       "      <th>4</th>\n",
       "      <td>16.14</td>\n",
       "      <td>14.99</td>\n",
       "      <td>0.9034</td>\n",
       "      <td>5.658</td>\n",
       "      <td>3.562</td>\n",
       "      <td>1.355</td>\n",
       "      <td>5.175</td>\n",
       "      <td>1</td>\n",
       "    </tr>\n",
       "  </tbody>\n",
       "</table>\n",
       "</div>"
      ],
      "text/plain": [
       "    Area  Perimeter  Compactness  Kernel.Length  Kernel.Width  \\\n",
       "0  15.26      14.84       0.8710          5.763         3.312   \n",
       "1  14.88      14.57       0.8811          5.554         3.333   \n",
       "2  14.29      14.09       0.9050          5.291         3.337   \n",
       "3  13.84      13.94       0.8955          5.324         3.379   \n",
       "4  16.14      14.99       0.9034          5.658         3.562   \n",
       "\n",
       "   Asymmetry.Coeff  Kernel.Groove  Type  \n",
       "0            2.221          5.220     1  \n",
       "1            1.018          4.956     1  \n",
       "2            2.699          4.825     1  \n",
       "3            2.259          4.805     1  \n",
       "4            1.355          5.175     1  "
      ]
     },
     "execution_count": 165,
     "metadata": {},
     "output_type": "execute_result"
    }
   ],
   "source": [
    "data.head()"
   ]
  },
  {
   "cell_type": "code",
   "execution_count": 168,
   "id": "5c99bd56",
   "metadata": {},
   "outputs": [
    {
     "data": {
      "image/png": "[encoded data removed]",
      "text/plain": [
       "<Figure size 432x288 with 1 Axes>"
      ]
     },
     "metadata": {
      "needs_background": "light"
     },
     "output_type": "display_data"
    }
   ],
   "source": [
    "import matplotlib.pyplot as plt\n",
    "import numpy as np\n",
    "import pandas as pd\n",
    "from sklearn.decomposition import PCA\n",
    "data = pd.read_csv('C:\\\\Users\\\\adarsh\\\\seeds.csv')\n",
    "\n",
    "x = data.iloc[:, :-1]\n",
    "y = data.iloc[:, -1]\n",
    "pca = PCA(n_components=1)\n",
    "x = pca.fit_transform(x)\n",
    "plt.scatter(x,y)\n",
    "plt.show()"
   ]
  }
 ],
 "metadata": {
  "kernelspec": {
   "display_name": "Python 3 (ipykernel)",
   "language": "python",
   "name": "python3"
  },
  "language_info": {
   "codemirror_mode": {
    "name": "ipython",
    "version": 3
   },
   "file_extension": ".py",
   "mimetype": "text/x-python",
   "name": "python",
   "nbconvert_exporter": "python",
   "pygments_lexer": "ipython3",
   "version": "3.9.12"
  }
 },
 "nbformat": 4,
 "nbformat_minor": 5
}
